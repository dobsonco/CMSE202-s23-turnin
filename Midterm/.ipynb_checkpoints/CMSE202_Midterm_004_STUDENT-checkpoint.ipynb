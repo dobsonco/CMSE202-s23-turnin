{
 "cells": [
  {
   "cell_type": "markdown",
   "id": "6c5e6854-6890-4440-927d-1c5666fe7858",
   "metadata": {
    "tags": []
   },
   "source": [
    "# CMSE 202 Midterm Section 004\n",
    "\n",
    "The goal of this midterm is to give you the opportunity to test out some of the skills that you've developed thus far this semester. In particular, you'll reflect on what you know about writing code using Python and showcase some of your new programming skills.\n",
    "\n",
    "**Important note about using online resources:** This exam is \"open internet\". That means that you can look up documentation, google how to accomplish certain Python tasks, etc. Being able to effectively use the internet for computational modeling and data science is a very important skill, so we want to make sure you have the opportunity to exercise that skill. **However, the use of any person-to-person communication software is absolutely not acceptable.**\n",
    "\n",
    "**Do your own work.** This midterm is designed to give you the opportunity to show the instructor what you can do and you should hold yourself accountable for maintaining a high level of academic integrity. Any violation of academic integrity could result in you receiving a zero on the midterm.\n",
    "\n",
    "You are encouraged to look through the entire exam before you get started so that you can appropriately budget your time and understand the broad goals of the exam.\n",
    "\n",
    "If you have any questions during the exam, you may ask the instructor, the TA, or the LA privately; simply raise your hand and one of us will come over to you. **There are 85 points in total.**\n",
    "\n",
    "### Content Knowledge Tested\n",
    "- Using Github to save and track progress on your work\n",
    "- Using Pandas to read, manipulate, and access data files\n",
    "- Using documentation and examples to effectively utilitze unfamiliar Python packages \n",
    "- Writing new classes to effectively store complex datasets"
   ]
  },
  {
   "cell_type": "markdown",
   "id": "dcc1f32a-2fcc-4031-94ff-096062983643",
   "metadata": {
    "tags": []
   },
   "source": [
    "## Part 0: Add to your Git repository to track your progress on your exam (7 points total)\n",
    "\n",
    "Before you get to far along in the exam, you're going to add it to the `cmse202-S23-turnin` repository you created in class so that you can track your progress on the exam and preserve the final version that you turn in. In order to do this you need to\n",
    "\n",
    "### &#9989; Part 0.1 (5 points):\n",
    "\n",
    "1. Navigate to your `cmse202-S23-turnin` repository and create a new directory called `midterm`.\n",
    "2. Move this notebook into that **new directory** in your repository, then **add it and commit it to your repository**.\n",
    "1. Finally, to test that everything is working, \"git push\" the file so that it ends up in your GitHub repository.\n",
    "\n",
    "**Important**: Double check you've added your Professor and your TA as collaborators to your \"turnin\" respository (you should have done this in the previous homework assignment).\n",
    "\n",
    "**Also important**: Make sure that the version of this notebook that you are working on is the same one that you just added to your repository! If you are working on a different copy of the noteobok, **none of your changes will be tracked**!\n",
    "\n",
    "The file should now show up on your GitHub account in the `cmse202-S23-turnin` repository inside the `midterm` directory you just created.  Periodically, **you'll be asked to commit your changes to the repository and push them to the remote GitHub location**. It can be good to get into a habit of committing your changes any time you make a significant modification.\n",
    "\n",
    "### Part 0.2 (2 points):\n",
    "&#9989; Before you move on, **put the command(s) that your instructor should run to clone your repository in the markdown cell below.**"
   ]
  },
  {
   "cell_type": "code",
   "execution_count": null,
   "id": "d5411504-4c33-446f-95f6-7bef07e94fdd",
   "metadata": {},
   "outputs": [],
   "source": [
    "#Write your code here\n",
    "!git clone https://github.com/dobsonco/CMSE202-s23-turnin.git"
   ]
  },
  {
   "cell_type": "markdown",
   "id": "4983c96b-98f0-415d-8a38-39c1623dbe8a",
   "metadata": {},
   "source": [
    "## Part 1: Getting Data with Curl (3 points)\n",
    "\n",
    "For this exam, you will be working with a dataset that contains **spectra.** Spectra are what you get when you separate light–like in a prism–and measure the flux (fancy word for brightness) of the different parts of the light (E.g., blue has a flux of 400, red has a flux of 600, etc.). More specifically, we measure the *wavelength* of the light (shorter wavelengths = bluer, longer wavelengths=redder). The data we’ll be working with came from a space telescope looking at different astronomical sources. \n",
    "\n",
    "For this exam, you only need to know that wavelength and flux are measured values used in astronomy, physics, chemistry, and biology. \n",
    "\n",
    "\n",
    "First, let’s get our data files. \n",
    "\n",
    "&#9989; **Download the files using `curl` and the following links. Put the commands you used to download the files in the cell below.**\n",
    "\n",
    " * `https://raw.githubusercontent.com/msu-cmse-courses/cmse202-F22-data/main/Midterm/metadata.csv`\n",
    " * `https://raw.githubusercontent.com/msu-cmse-courses/cmse202-F22-data/main/Midterm/flux_values.csv`\n",
    " * `https://raw.githubusercontent.com/msu-cmse-courses/cmse202-F22-data/main/Midterm/wavlength_values.csv`\n"
   ]
  },
  {
   "cell_type": "code",
   "execution_count": 2,
   "id": "8a5c8eac-5deb-477c-803a-527b4cc9c2c0",
   "metadata": {},
   "outputs": [
    {
     "name": "stdout",
     "output_type": "stream",
     "text": [
      "  % Total    % Received % Xferd  Average Speed   Time    Time     Time  Current\n",
      "                                 Dload  Upload   Total   Spent    Left  Speed\n",
      "100 18761  100 18761    0     0  25241      0 --:--:-- --:--:-- --:--:-- 25490\n"
     ]
    }
   ],
   "source": [
    "#Write your code here\n",
    "!curl https://raw.githubusercontent.com/msu-cmse-courses/cmse202-F22-data/main/Midterm/metadata.csv -o metadata.csv"
   ]
  },
  {
   "cell_type": "code",
   "execution_count": 3,
   "id": "e3cb4639",
   "metadata": {},
   "outputs": [
    {
     "name": "stdout",
     "output_type": "stream",
     "text": [
      "  % Total    % Received % Xferd  Average Speed   Time    Time     Time  Current\n",
      "                                 Dload  Upload   Total   Spent    Left  Speed\n",
      "100  468k  100  468k    0     0   310k      0  0:00:01  0:00:01 --:--:--  311k\n"
     ]
    }
   ],
   "source": [
    "!curl https://raw.githubusercontent.com/msu-cmse-courses/cmse202-F22-data/main/Midterm/flux_values.csv -o flux.csv"
   ]
  },
  {
   "cell_type": "code",
   "execution_count": 4,
   "id": "8c968fb8",
   "metadata": {},
   "outputs": [
    {
     "name": "stdout",
     "output_type": "stream",
     "text": [
      "  % Total    % Received % Xferd  Average Speed   Time    Time     Time  Current\n",
      "                                 Dload  Upload   Total   Spent    Left  Speed\n",
      "100  902k  100  902k    0     0   586k      0  0:00:01  0:00:01 --:--:--  588k 0      0 --:--:-- --:--:-- --:--:--     0\n"
     ]
    }
   ],
   "source": [
    "!curl https://raw.githubusercontent.com/msu-cmse-courses/cmse202-F22-data/main/Midterm/wavlength_values.csv -o wavelength.csv"
   ]
  },
  {
   "cell_type": "markdown",
   "id": "81c8c313-2d23-4eff-a713-7abf289d3773",
   "metadata": {
    "tags": []
   },
   "source": [
    "## Part 2: Reading the Data (5 points)\n",
    "\n",
    "&#9989; **Read in the data files using Pandas (put your code in the cell below).** One of them has metadata about each source (every row is one object with the ID being in the first column), one of them has flux values for each source (where now each column is one object - cross-check the IDs), and the last one has the wavelength values for each source (same as flux). "
   ]
  },
  {
   "cell_type": "code",
   "execution_count": 5,
   "id": "ec6c379e",
   "metadata": {},
   "outputs": [],
   "source": [
    "import pandas as pd\n",
    "import numpy as np\n",
    "import seaborn as sns\n",
    "import matplotlib.pyplot as plt"
   ]
  },
  {
   "cell_type": "code",
   "execution_count": 59,
   "id": "a3a77d21-f2ed-40b9-aa23-77ca5faefb80",
   "metadata": {},
   "outputs": [
    {
     "data": {
      "text/plain": [
       "ID               object\n",
       "RA              float64\n",
       "DEC             float64\n",
       "Scale Factor    float64\n",
       "dtype: object"
      ]
     },
     "execution_count": 59,
     "metadata": {},
     "output_type": "execute_result"
    }
   ],
   "source": [
    "#Write your code here\n",
    "meta = pd.read_csv('metadata.csv',header=0)\n",
    "flux = pd.read_csv('flux.csv',header=0)\n",
    "wavelength = pd.read_csv('wavelength.csv',header=0)\n",
    "\n",
    "meta.dtypes"
   ]
  },
  {
   "cell_type": "markdown",
   "id": "cb928c2f-720c-4185-ab3e-103ad91dab9d",
   "metadata": {
    "tags": []
   },
   "source": [
    "## Part 3: Using a \"New\" Package (15 points)\n",
    "For this problem, we want you to use a new package that you aren’t as used to. Specifically, you’ll be using the [Seaborn plotting package](https://seaborn.pydata.org/). \n",
    "\n",
    "&#9989; RA and DEC are two measurements that are equivalent to latitude and longitude on earth (I.e., they give the position on the sky). **Use the Seaborn `relplot` and your metadata dataframe to make a scatter plot of the following:** \n",
    "\n",
    "- RA on the x-axis \n",
    "- DEC on the y-axis \n",
    "- The size of your data points on the plot should correspond to the scale factor (a measure of total brightness of the source.) \n",
    "\n",
    "**Hint:** You might want to take a look at the Seaborn example gallery. "
   ]
  },
  {
   "cell_type": "code",
   "execution_count": 118,
   "id": "9d5ee909-a4f0-4678-89be-07e412a305b9",
   "metadata": {},
   "outputs": [
    {
     "data": {
      "image/png": "[encoded data removed]",
      "text/plain": [
       "<Figure size 499.25x360 with 1 Axes>"
      ]
     },
     "metadata": {
      "needs_background": "light"
     },
     "output_type": "display_data"
    }
   ],
   "source": [
    "#Write your code here\n",
    "sns.relplot(data=meta,x='RA',y='DEC',size='Scale Factor',sizes=(10,400),hue='Scale Factor');"
   ]
  },
  {
   "cell_type": "markdown",
   "id": "968006d1-c4d2-4d09-ba0f-72e9fba50de7",
   "metadata": {
    "jp-MarkdownHeadingCollapsed": true,
    "tags": []
   },
   "source": [
    "---\n",
    "### &#128721; STOP (1 point)\n",
    "**Pause to commit your changes to your Git repository!**\n",
    "\n",
    "Take a moment to save your notebook, commit and push the changes to your Git repository.\n",
    "\n",
    "---"
   ]
  },
  {
   "cell_type": "markdown",
   "id": "a8efb523-e4b5-44bc-9687-1568577fc1f2",
   "metadata": {
    "tags": []
   },
   "source": [
    "## Part 4: Accessing Specific Data Values with Pandas (15 points)\n",
    "\n",
    "For this part of the exam, we’ll walk through how to use Pandas to access specific pieces of information in our dataframes.\n",
    "\n",
    "### 4.1 Getting the Metadata (5 points)\n",
    "\n",
    "&#9989; **Use Pandas to access the value in the the 3rd row and 2nd column in the metadata dataframe (I.e., the RA for 12073-6233).** *Hint: What is the easiest way to access data using index values?*"
   ]
  },
  {
   "cell_type": "code",
   "execution_count": 28,
   "id": "d5baf706-738d-4b61-97a8-f6d827b5bfd3",
   "metadata": {},
   "outputs": [
    {
     "data": {
      "text/plain": [
       "12.123"
      ]
     },
     "execution_count": 28,
     "metadata": {},
     "output_type": "execute_result"
    }
   ],
   "source": [
    "#Write your code here\n",
    "meta.iloc[2,1]"
   ]
  },
  {
   "cell_type": "markdown",
   "id": "8f9d3b23-a3fb-459b-97d4-facdb37cd7f7",
   "metadata": {},
   "source": [
    "### 4.2 Getting Flux Data (5 Points)\n",
    "\n",
    "&#9989; **Use Pandas to access the entire second column of data in the flux dataframe (I.e., all flux values for 12063-6259).** Try to use the same tools as the previous problem."
   ]
  },
  {
   "cell_type": "code",
   "execution_count": 45,
   "id": "c3da70e4-3464-4453-a8b3-2780a32a2336",
   "metadata": {},
   "outputs": [
    {
     "data": {
      "text/plain": [
       "0     7660.9990\n",
       "1     7906.7840\n",
       "2     7821.8984\n",
       "3     7240.5156\n",
       "4     6555.7860\n",
       "        ...    \n",
       "88    7084.0360\n",
       "89    6971.7830\n",
       "90    7015.5747\n",
       "91    6962.2200\n",
       "92    6263.4400\n",
       "Name: 12063-6259, Length: 93, dtype: float64"
      ]
     },
     "execution_count": 45,
     "metadata": {},
     "output_type": "execute_result"
    }
   ],
   "source": [
    "#Write your code here\n",
    "flux['12063-6259']"
   ]
  },
  {
   "cell_type": "markdown",
   "id": "42affb76-e248-4443-8261-1d0e32aebcda",
   "metadata": {},
   "source": [
    "### 4.3 Getting Wavelength Data (5 Points)\n",
    "\n",
    "&#9989; **Use Pandas to access the entire third column of data in the wavelength dataframe (I.e., all wavelength values for 12073-6233).** Try to use the same tools as the previous two parts."
   ]
  },
  {
   "cell_type": "code",
   "execution_count": 46,
   "id": "3a398463-bd78-4f43-998d-39ce1d4b8c25",
   "metadata": {},
   "outputs": [
    {
     "data": {
      "text/plain": [
       "0      7.864406\n",
       "1      8.041659\n",
       "2      8.230711\n",
       "3      8.400978\n",
       "4      8.574238\n",
       "        ...    \n",
       "88    22.185389\n",
       "89    22.358518\n",
       "90    22.558641\n",
       "91    22.741007\n",
       "92    22.916100\n",
       "Name: 12073-6233, Length: 93, dtype: float64"
      ]
     },
     "execution_count": 46,
     "metadata": {},
     "output_type": "execute_result"
    }
   ],
   "source": [
    "#Write your code here\n",
    "wavelength['12073-6233']"
   ]
  },
  {
   "cell_type": "markdown",
   "id": "2c5a612c-c356-4ab1-a62c-fa8daafb80bd",
   "metadata": {},
   "source": [
    "## Part 5: Designing a Class (15 points)\n",
    "\n",
    "The issue with this dataset is that it comes in two parts: the spectra and the metadata for each source. To make life easier, we’re going to combine both the data and the metadata by designing a new class, the `Spectrum` class.\n",
    "\n",
    "&#9989; **Write a new class for this spectrum data.** Your class should have the following: \n",
    "- Attributes for each piece of information in the metadata file (I.e., ID, RA, DEC, and Scale Factor)\n",
    "- Wavelengths \n",
    "- Flux \n",
    "- `get`-methods for both wavelength and flux (for the sake of time, you don’t need to write `set`-methods or `get`-methods for any of the other attributes)."
   ]
  },
  {
   "cell_type": "code",
   "execution_count": 29,
   "id": "dfc6d1d7-90f0-4de4-9adf-a81ac137c0b3",
   "metadata": {},
   "outputs": [],
   "source": [
    "#Write class here\n",
    "class Spectrum(object):\n",
    "    def __init__(self,ID,RA,DEC,Scale,wave,flux):\n",
    "        self.ID = ID\n",
    "        self.RA = RA\n",
    "        self.DEC = DEC\n",
    "        self.Scale = Scale\n",
    "        self.wave = wave\n",
    "        self.flux = flux\n",
    "        \n",
    "    def get_wave(self):\n",
    "        return(self.wave)\n",
    "    \n",
    "    def get_flux(self):\n",
    "        return(self.flux)"
   ]
  },
  {
   "cell_type": "markdown",
   "id": "d6fbf4fe-e3fb-46c6-a192-6d235ee9348f",
   "metadata": {
    "jp-MarkdownHeadingCollapsed": true,
    "tags": []
   },
   "source": [
    "---\n",
    "### &#128721; STOP (1 point)\n",
    "**Pause to commit your changes to your Git repository!**\n",
    "\n",
    "Take a moment to save your notebook, commit  and push the changes to your Git repository.\n",
    "\n",
    "---"
   ]
  },
  {
   "cell_type": "markdown",
   "id": "5c647abf-1b0a-4485-9765-5b448d3b776e",
   "metadata": {},
   "source": [
    "## Part 6: Building Objects (15 points)\n",
    "\n",
    "&#9989; **Construct `Spectrum` objects for all of the spectral measurements. Append all of the objects to a new list called `spectrum_objects`.** Make sure to think that each object is stored on **one row** in the `meta` dataframe but in **one column** in both `flux` and `wavelength` DataFrames. "
   ]
  },
  {
   "cell_type": "code",
   "execution_count": 56,
   "id": "6690a345",
   "metadata": {},
   "outputs": [],
   "source": [
    "spectrum_list = []\n",
    "\n",
    "for row in meta.iterrows():\n",
    "    index = row[0]\n",
    "    \n",
    "    ID = row[1][0]\n",
    "    RA = row[1][1]\n",
    "    DEC = row[1][2]\n",
    "    Scale = row[1][3]\n",
    "    Wave = wavelength[str(ID)]\n",
    "    Flux = flux[str(ID)]\n",
    "    \n",
    "    obj = Spectrum(ID,RA,DEC,Scale,Wave,Flux)\n",
    "    spectrum_list.append(obj)"
   ]
  },
  {
   "cell_type": "markdown",
   "id": "84654ba5-253d-4917-8a47-e01d510d9342",
   "metadata": {},
   "source": [
    "## Part 7: Scaling Flux Values (12 points)\n",
    "\n",
    "*Note: You can complete parts 7.1 and 7.2 even if you did not complete Part 6*\n",
    "\n",
    "### Part 7.1: Fixing the Problem (4 points)\n",
    "&#9989; **All of the flux values need to be scaled (multiplied) by the `scale_factor` value. Store the `scale_factor` in the class. Then write a new method in your `spectrum` class that scales it.** \n",
    "\n"
   ]
  },
  {
   "cell_type": "code",
   "execution_count": 78,
   "id": "1e4373db-4af1-4bba-8144-087e2a84c9a2",
   "metadata": {},
   "outputs": [],
   "source": [
    "#Write your code here\n",
    "class Spectrum(object):\n",
    "    \n",
    "    def __init__(self,ID,RA,DEC,Scale,wave,flux):\n",
    "        self.ID = ID\n",
    "        self.RA = RA\n",
    "        self.DEC = DEC\n",
    "        self.Scale = Scale\n",
    "        self.wave = wave\n",
    "        \n",
    "    def scale_fix(self,scale,flux):\n",
    "        new_flux = np.array(flux) * scale\n",
    "        self.flux = new_flux\n",
    "        \n",
    "    def get_wave(self):\n",
    "        return(self.wave)\n",
    "    \n",
    "    def get_flux(self):\n",
    "        return(self.flux)"
   ]
  },
  {
   "cell_type": "markdown",
   "id": "fffc47f1-635d-4aa2-973e-94e1f4bfbdba",
   "metadata": {},
   "source": [
    "### Part 7.2: Applying the Fix (4 points)\n",
    "&#9989; **Call your method within the constructor method (I.e., the `__init__` method), so that it automatically scales the flux values as it creates a new `spectrum` object.**"
   ]
  },
  {
   "cell_type": "code",
   "execution_count": 86,
   "id": "7995705b-e252-47cd-9281-ce8e85b8c8a4",
   "metadata": {},
   "outputs": [],
   "source": [
    "#Write your code here\n",
    "class Spectrum(object):\n",
    "    \n",
    "    def __init__(self,ID,RA,DEC,Scale,wave,flux):\n",
    "        self.ID = ID\n",
    "        self.RA = RA\n",
    "        self.DEC = DEC\n",
    "        self.Scale = Scale\n",
    "        self.wave = wave\n",
    "        self.scale_fix(self.Scale,flux)\n",
    "        \n",
    "    def scale_fix(self,scale,flux):\n",
    "        new_flux = np.array(flux) * scale\n",
    "        self.flux = new_flux\n",
    "        \n",
    "    def get_wave(self):\n",
    "        return(self.wave)\n",
    "    \n",
    "    def get_flux(self):\n",
    "        return(self.flux)"
   ]
  },
  {
   "cell_type": "markdown",
   "id": "aa7be01f-6a2d-428b-be51-8789e624ba12",
   "metadata": {},
   "source": [
    "### Part 7.3: Rebuilding (4 points)\n",
    "&#9989; **Rerun your code from Part 6 to rebuild your objects with properly scaled flux values.**"
   ]
  },
  {
   "cell_type": "code",
   "execution_count": 119,
   "id": "50af8d35-8ce5-4df8-b84a-2fad83c3a08e",
   "metadata": {},
   "outputs": [],
   "source": [
    "#Write your code here\n",
    "spectrum_list = []\n",
    "\n",
    "for row in meta.iterrows():\n",
    "    index = row[0]\n",
    "    \n",
    "    ID = row[1][0]\n",
    "    RA = row[1][1]\n",
    "    DEC = row[1][2]\n",
    "    Scale = row[1][3]\n",
    "    Wave = wavelength[str(ID)]\n",
    "    Flux = flux[str(ID)]\n",
    "    \n",
    "    obj = Spectrum(ID,RA,DEC,Scale,Wave,Flux)\n",
    "    spectrum_list.append(obj)"
   ]
  },
  {
   "cell_type": "markdown",
   "id": "a19509b9-fafb-47b0-bcb3-01b390cb17c4",
   "metadata": {},
   "source": [
    "## Part 8: Make a Plot (10 points)\n",
    "\n",
    "&#9989; **Select one of your spectrum objects and use it to make a plot. Your plot should have Wavelength on the x-axis and flux on the y-axis.**\n",
    "\n",
    "*Note: You can complete this problem even if you did not complete Part 6 or 7. As long as you have A spectrum object.*"
   ]
  },
  {
   "cell_type": "code",
   "execution_count": 107,
   "id": "e6dcd0a2-874f-4ffe-8997-4117b89b9ab9",
   "metadata": {},
   "outputs": [
    {
     "data": {
      "image/png": "[encoded data removed]",
      "text/plain": [
       "<Figure size 360x360 with 1 Axes>"
      ]
     },
     "metadata": {
      "needs_background": "light"
     },
     "output_type": "display_data"
    }
   ],
   "source": [
    "#Write your code here\n",
    "object1 = {\n",
    "    'x':spectrum_list[0].get_wave(),\n",
    "    'y':spectrum_list[0].get_flux()\n",
    "}\n",
    "\n",
    "obj1_data = pd.DataFrame.from_dict(object1)\n",
    "\n",
    "sns.relplot(data = obj1_data,x='x',y='y')\n",
    "plt.title('Flux vs. Wavelength')\n",
    "plt.xlabel('Wavelength')\n",
    "plt.ylabel('Flux');"
   ]
  },
  {
   "cell_type": "markdown",
   "id": "24487f41-d69d-4da0-9964-795c7a7d3e7b",
   "metadata": {
    "tags": []
   },
   "source": [
    "---\n",
    "### &#128721; STOP (1 point)\n",
    "**Pause to commit your changes to your Git repository!**\n",
    "\n",
    "Take a moment to save your notebook, commit  and push the changes to your Git repository.\n",
    "\n",
    "---"
   ]
  },
  {
   "cell_type": "markdown",
   "id": "0cd14847-5fcd-40e6-8799-c2e91ea181f2",
   "metadata": {
    "jp-MarkdownHeadingCollapsed": true,
    "tags": []
   },
   "source": [
    "## You're done! Congrats on finishing your CMSE 202 Midterm!\n",
    "\n",
    "Make sure all of your changes to your repository are committed and pushed to GitHub. Also upload a copy of this notebook to the dropbox on D2L in case something went wrong with your repository or if you couldn't get the repository to work."
   ]
  }
 ],
 "metadata": {
  "kernelspec": {
   "display_name": "Python 3 (ipykernel)",
   "language": "python",
   "name": "python3"
  },
  "language_info": {
   "codemirror_mode": {
    "name": "ipython",
    "version": 3
   },
   "file_extension": ".py",
   "mimetype": "text/x-python",
   "name": "python",
   "nbconvert_exporter": "python",
   "pygments_lexer": "ipython3",
   "version": "3.9.16"
  }
 },
 "nbformat": 4,
 "nbformat_minor": 5
}
