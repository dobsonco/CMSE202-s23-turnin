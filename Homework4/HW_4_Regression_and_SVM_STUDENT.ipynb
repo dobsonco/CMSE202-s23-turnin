{
 "cells": [
  {
   "cell_type": "markdown",
   "metadata": {},
   "source": [
    "# Homework Assignment #4 (Individual)\n",
    "## Regression and SVM Predictive Models"
   ]
  },
  {
   "cell_type": "markdown",
   "metadata": {},
   "source": [
    "### <p style=\"text-align: right;\"> &#9989; Collin Dobson</p>\n",
    "### <p style=\"text-align: right;\"> &#9989; dobsonco</p>"
   ]
  },
  {
   "cell_type": "markdown",
   "metadata": {},
   "source": [
    "### Goal for this homework assignment\n",
    "By now, you have learned a bit about predictive models. In this assignment, you will practice:\n",
    "\n",
    "* Building predictive models using `statsmodels` and `sklearn`\n",
    "* Evaluating your predictive models\n",
    "\n",
    "**This assignment is due roughly two weeks from now at 11:59 pm on Friday, April 21st.** It should be uploaded into the \"Homework Assignments\" submission folder for Homework #4.  Submission instructions can be found at the end of the notebook.\n"
   ]
  },
  {
   "cell_type": "markdown",
   "metadata": {},
   "source": [
    "---\n",
    "## Part 0: Add to your Git repository to track your progress on your assignment (4 points)\n",
    "\n",
    "For this assignment, you're going to add it to the `cmse202-s23-turnin` repository you created in class so that you can track your progress on the assignment and preserve the final version that you turn in. In order to do this you need to\n",
    "\n",
    "**&#9989; Do the following**:\n",
    "\n",
    "1. Navigate to your `cmse202-s23-turnin` repository and create a new directory called `hw-04`.\n",
    "2. Move this notebook into that **new directory** in your repository, then **add it and commit it to your repository**.\n",
    "1. Finally, to test that everything is working, \"git push\" the file so that it ends up in your GitHub repository.\n",
    "\n",
    "**Important**: Double check you've added your Professor and your TA as collaborators to your \"turnin\" repository (you should have done this in the previous homework assignment).\n",
    "\n",
    "**Also important**: Make sure that the version of this notebook that you are working on is the same one that you just added to your repository! If you are working on a different copy of the notebook, **none of your changes will be tracked**!\n",
    "\n",
    "If everything went as intended, the file should now show up on your GitHub account in the \"`cmse202-s23-turnin`\" repository inside the `hw-04` directory that you just created.  Periodically, **you'll be asked to commit your changes to the repository and push them to the remote GitHub location**. Of course, you can always commit your changes more often than that, if you wish.  It can be good to get into a habit of committing your changes any time you make a significant modification, or when you stop working on the project for a bit.\n",
    "\n",
    "&#9989; **Do this**: Before you move on, put the command that your instructor should run to clone your repository in the markdown cell below."
   ]
  },
  {
   "cell_type": "markdown",
   "metadata": {},
   "source": [
    "git clone https://github.com/dobsonco/CMSE202-s23-turnin.git"
   ]
  },
  {
   "cell_type": "markdown",
   "metadata": {},
   "source": [
    "# Building a Model to Predict if it Will Rain Tomorrow\n",
    "\n",
    "In this dataset we have weather data for a number of Australian cities. We’re going to **build a model that uses data from today to predict if it will rain tomorrow.** To simplify our model, let’s just look at the weather for one city.\n",
    "\n",
    "## Part 1. Working with the Data\n",
    "\n",
    "The dataset that we’ll be using can be found here:\n",
    "- `https://raw.githubusercontent.com/msu-cmse-courses/cmse202-S23-data/main/HW/HW4/aussie_weather_data.csv`\n",
    "\n",
    "#### 1.1 (3 Points)\n",
    "**Download the data set and read it in using Pandas.**"
   ]
  },
  {
   "cell_type": "code",
   "execution_count": null,
   "metadata": {},
   "outputs": [],
   "source": [
    "!curl https://raw.githubusercontent.com/msu-cmse-courses/cmse202-S23-data/main/HW/HW4/aussie_weather_data.csv -o aussie_weather.csv\n",
    "    "
   ]
  },
  {
   "cell_type": "code",
   "execution_count": null,
   "metadata": {},
   "outputs": [],
   "source": [
    "import pandas as pd"
   ]
  },
  {
   "cell_type": "code",
   "execution_count": null,
   "metadata": {},
   "outputs": [],
   "source": [
    "weather_data = pd.read_csv('aussie_weather.csv')\n",
    "weather_data.head()"
   ]
  },
  {
   "cell_type": "markdown",
   "metadata": {},
   "source": [
    "#### 1.2 (3 Points)\n",
    "This dataset has weather information for multiple cities in Australia. It’s quite a large dataset. In fact, it’s a little *too* large for our purposes; it will take a considerable amount of time to train a model on so much data. So we’ll just work with the data for a specific city.\n",
    "\n",
    "The first thing we’ll do is see which cities we have data for. \n",
    "**Print out a list of the specific cities in this dataset.** (Note that this is not the same as printing the entire `Location` column.)"
   ]
  },
  {
   "cell_type": "code",
   "execution_count": null,
   "metadata": {},
   "outputs": [],
   "source": [
    "#Write your code here\n",
    "cities = list(set(weather_data['Location']))\n",
    "cities"
   ]
  },
  {
   "cell_type": "markdown",
   "metadata": {},
   "source": [
    "#### 1.3 (3 Points)\n",
    "Select one of the cities (and **please** don't just pick the first one!). Cut down your dataframe so that it only contains data from your chosen city. You should also **look through the columns in this dataset and ensure that all of the data is ready for our analysis/model creation.**"
   ]
  },
  {
   "cell_type": "code",
   "execution_count": null,
   "metadata": {},
   "outputs": [],
   "source": [
    "#Write your code here\n",
    "mask = weather_data['Location'] == 'WaggaWagga'\n",
    "wagga_data = weather_data[mask]\n",
    "\n",
    "wagga_data.iloc[:,4:]"
   ]
  },
  {
   "cell_type": "markdown",
   "metadata": {},
   "source": [
    "#### 1.4 (3 Points)\n",
    "Finally, before we start creating our models, let's first split our data into training and testing datasets. **Keep in mind what we want our model to predict and how this dataset gives you the information you need for your model.**"
   ]
  },
  {
   "cell_type": "code",
   "execution_count": null,
   "metadata": {},
   "outputs": [],
   "source": [
    "import numpy as np\n",
    "import matplotlib.pyplot as plt\n",
    "from sklearn.metrics import classification_report\n",
    "from sklearn.metrics import confusion_matrix\n",
    "from sklearn.svm import SVC\n",
    "from sklearn.model_selection import train_test_split\n",
    "import statsmodels.api as sm\n",
    "from sklearn import metrics\n",
    "from sklearn.metrics import confusion_matrix\n",
    "from sklearn.model_selection import GridSearchCV"
   ]
  },
  {
   "cell_type": "code",
   "execution_count": null,
   "metadata": {},
   "outputs": [],
   "source": [
    "#Write your code here\n",
    "train_data,test_data = train_test_split(wagga_data)\n",
    "\n",
    "train_vectors = train_data.iloc[:,4:24]\n",
    "train_labels = train_data['RainTomorrow']\n",
    "\n",
    "test_vectors = test_data.iloc[:,4:24]\n",
    "test_labels = test_data['RainTomorrow']"
   ]
  },
  {
   "cell_type": "markdown",
   "metadata": {},
   "source": [
    "## 2.0 Building a Regression Model\n",
    "\n",
    "#### 2.1 (3 Points)\n",
    "We’ll start by creating a regression model. **Does it make sense for us to use linear regression or logistic regression? Explain your choice.**"
   ]
  },
  {
   "cell_type": "markdown",
   "metadata": {},
   "source": [
    "It doesn't make sense to do a linear regression, but a logistic regression does make sense, as we want either a 1 or a 0. Logistic regressions are much better for binary decisions."
   ]
  },
  {
   "cell_type": "markdown",
   "metadata": {},
   "source": [
    "#### 2.2 (12 Points)\n",
    "Create a regression model. Use the model summary to determine which parameters are most statistically significant in your model. If you get an error during at this stage it may be helpful to go back to part 1.3 and ensure that all of your data is appropriate for creating a model. "
   ]
  },
  {
   "cell_type": "code",
   "execution_count": 118,
   "metadata": {},
   "outputs": [
    {
     "name": "stdout",
     "output_type": "stream",
     "text": [
      "Optimization terminated successfully.\n",
      "         Current function value: 0.232377\n",
      "         Iterations 8\n",
      "                           Logit Regression Results                           \n",
      "==============================================================================\n",
      "Dep. Variable:           RainTomorrow   No. Observations:                 1812\n",
      "Model:                          Logit   Df Residuals:                     1791\n",
      "Method:                           MLE   Df Model:                           20\n",
      "Date:                Wed, 12 Apr 2023   Pseudo R-squ.:                  0.4931\n",
      "Time:                        17:46:04   Log-Likelihood:                -421.07\n",
      "converged:                       True   LL-Null:                       -830.74\n",
      "Covariance Type:            nonrobust   LLR p-value:                1.102e-160\n",
      "=================================================================================\n",
      "                    coef    std err          z      P>|z|      [0.025      0.975]\n",
      "---------------------------------------------------------------------------------\n",
      "const            73.0859     19.086      3.829      0.000      35.678     110.494\n",
      "MinTemp          -0.0104      0.053     -0.198      0.843      -0.114       0.093\n",
      "MaxTemp           0.0525      0.101      0.522      0.602      -0.145       0.250\n",
      "Rainfall          0.0389      0.017      2.242      0.025       0.005       0.073\n",
      "Evaporation       0.0299      0.048      0.626      0.531      -0.064       0.123\n",
      "Sunshine         -0.2710      0.053     -5.138      0.000      -0.374      -0.168\n",
      "WindGustDir      -0.0001      0.001     -0.094      0.925      -0.002       0.002\n",
      "WindGustSpeed     0.0697      0.010      6.771      0.000       0.050       0.090\n",
      "WindDir9am       -0.0020      0.001     -1.919      0.055      -0.004    4.34e-05\n",
      "WindDir3pm        0.0001      0.001      0.089      0.929      -0.002       0.002\n",
      "WindSpeed9am     -0.0115      0.017     -0.668      0.504      -0.045       0.022\n",
      "WindSpeed3pm     -0.0458      0.015     -2.976      0.003      -0.076      -0.016\n",
      "Humidity9am       0.0043      0.012      0.349      0.727      -0.020       0.029\n",
      "Humidity3pm       0.0548      0.012      4.575      0.000       0.031       0.078\n",
      "Pressure9am       0.3850      0.066      5.791      0.000       0.255       0.515\n",
      "Pressure3pm      -0.4624      0.065     -7.080      0.000      -0.590      -0.334\n",
      "Cloud9am         -0.0756      0.058     -1.312      0.189      -0.189       0.037\n",
      "Cloud3pm          0.0264      0.061      0.434      0.664      -0.093       0.146\n",
      "Temp9am           0.1346      0.079      1.711      0.087      -0.020       0.289\n",
      "Temp3pm          -0.1442      0.097     -1.485      0.138      -0.335       0.046\n",
      "RainToday        -0.1833      0.297     -0.618      0.537      -0.765       0.398\n",
      "=================================================================================\n"
     ]
    }
   ],
   "source": [
    "#Write your code here\n",
    "logit_model = sm.Logit(train_labels, sm.add_constant(train_vectors))\n",
    "result = logit_model.fit()\n",
    "print(result.summary())"
   ]
  },
  {
   "cell_type": "code",
   "execution_count": 119,
   "metadata": {},
   "outputs": [
    {
     "name": "stdout",
     "output_type": "stream",
     "text": [
      "Accuracy: 90.06622516556291%\n"
     ]
    }
   ],
   "source": [
    "predicted = result.predict(sm.add_constant(test_vectors))\n",
    "predicted_int = np.rint(predicted)\n",
    "predicted_int = predicted_int.astype('int64')\n",
    "\n",
    "print(f'Accuracy: {metrics.accuracy_score(y_true=test_labels,y_pred=predicted_int)*100}%')"
   ]
  },
  {
   "cell_type": "code",
   "execution_count": 120,
   "metadata": {},
   "outputs": [
    {
     "name": "stdout",
     "output_type": "stream",
     "text": [
      "              precision    recall  f1-score   support\n",
      "\n",
      "           0       0.91      0.97      0.94       488\n",
      "           1       0.83      0.60      0.70       116\n",
      "\n",
      "    accuracy                           0.90       604\n",
      "   macro avg       0.87      0.79      0.82       604\n",
      "weighted avg       0.90      0.90      0.89       604\n",
      "\n"
     ]
    }
   ],
   "source": [
    "print(classification_report(test_labels, predicted_int))"
   ]
  },
  {
   "cell_type": "markdown",
   "metadata": {},
   "source": [
    "*Record which features are most statistically significant.*"
   ]
  },
  {
   "cell_type": "markdown",
   "metadata": {},
   "source": [
    "Mintemp, Evap, Wind Gust Dir, Wind Dir 3pm, Humidity 9 am, and Rain Today are the most important features."
   ]
  },
  {
   "cell_type": "markdown",
   "metadata": {},
   "source": [
    "\n",
    "\n",
    "#### 2.3 (8 Points)\n",
    "**Fit your test data and create/print a confusion matrix. We’ll use this to evaluate how well your predicitve model performs.**"
   ]
  },
  {
   "cell_type": "code",
   "execution_count": 78,
   "metadata": {},
   "outputs": [],
   "source": [
    "del train_vectors['MaxTemp']\n",
    "del test_vectors['MaxTemp']\n",
    "\n",
    "del train_vectors['Rainfall']\n",
    "del test_vectors['Rainfall']\n",
    "\n",
    "del train_vectors['Sunshine']\n",
    "del test_vectors['Sunshine']\n",
    "\n",
    "del train_vectors['WindGustSpeed']\n",
    "del test_vectors['WindGustSpeed']\n",
    "\n",
    "del train_vectors['WindDir9am']\n",
    "del test_vectors['WindDir9am']\n",
    "\n",
    "del train_vectors['WindSpeed9am']\n",
    "del test_vectors['WindSpeed9am']\n",
    "\n",
    "del train_vectors['Humidity3pm']\n",
    "del test_vectors['Humidity3pm']\n",
    "\n",
    "del train_vectors['Pressure9am']\n",
    "del test_vectors['Pressure9am']\n",
    "\n",
    "del train_vectors['Pressure3pm']\n",
    "del test_vectors['Pressure3pm']"
   ]
  },
  {
   "cell_type": "code",
   "execution_count": 79,
   "metadata": {},
   "outputs": [
    {
     "name": "stdout",
     "output_type": "stream",
     "text": [
      "Optimization terminated successfully.\n",
      "         Current function value: 0.313940\n",
      "         Iterations 7\n",
      "                           Logit Regression Results                           \n",
      "==============================================================================\n",
      "Dep. Variable:           RainTomorrow   No. Observations:                 1812\n",
      "Model:                          Logit   Df Residuals:                     1800\n",
      "Method:                           MLE   Df Model:                           11\n",
      "Date:                Wed, 12 Apr 2023   Pseudo R-squ.:                  0.3385\n",
      "Time:                        17:21:45   Log-Likelihood:                -568.86\n",
      "converged:                       True   LL-Null:                       -859.96\n",
      "Covariance Type:            nonrobust   LLR p-value:                8.967e-118\n",
      "================================================================================\n",
      "                   coef    std err          z      P>|z|      [0.025      0.975]\n",
      "--------------------------------------------------------------------------------\n",
      "const           -3.0081      0.958     -3.141      0.002      -4.885      -1.131\n",
      "MinTemp          0.0438      0.043      1.013      0.311      -0.041       0.129\n",
      "Evaporation      0.0208      0.038      0.555      0.579      -0.053       0.094\n",
      "WindGustDir  -6.052e-06      0.001     -0.006      0.995      -0.002       0.002\n",
      "WindDir3pm      -0.0036      0.001     -3.660      0.000      -0.006      -0.002\n",
      "WindSpeed3pm    -0.0016      0.010     -0.159      0.874      -0.021       0.018\n",
      "Humidity9am      0.0150      0.008      1.775      0.076      -0.002       0.032\n",
      "Cloud9am         0.1041      0.042      2.499      0.012       0.022       0.186\n",
      "Cloud3pm         0.2916      0.047      6.195      0.000       0.199       0.384\n",
      "Temp9am          0.2637      0.060      4.368      0.000       0.145       0.382\n",
      "Temp3pm         -0.2657      0.033     -8.171      0.000      -0.329      -0.202\n",
      "RainToday        0.1024      0.200      0.512      0.609      -0.290       0.495\n",
      "================================================================================\n"
     ]
    }
   ],
   "source": [
    "logit_model = sm.Logit(train_labels, sm.add_constant(train_vectors))\n",
    "result = logit_model.fit()\n",
    "print(result.summary())"
   ]
  },
  {
   "cell_type": "code",
   "execution_count": 80,
   "metadata": {},
   "outputs": [
    {
     "name": "stdout",
     "output_type": "stream",
     "text": [
      "Accuracy: 87.74834437086093%\n"
     ]
    }
   ],
   "source": [
    "#Write your code here\n",
    "predicted = result.predict(sm.add_constant(test_vectors))\n",
    "predicted_int = np.rint(predicted)\n",
    "predicted_int = predicted_int.astype('int64')\n",
    "\n",
    "print(f'Accuracy: {metrics.accuracy_score(y_true=test_labels,y_pred=predicted_int)*100}%')"
   ]
  },
  {
   "cell_type": "code",
   "execution_count": 81,
   "metadata": {},
   "outputs": [
    {
     "name": "stdout",
     "output_type": "stream",
     "text": [
      "Confusion Matrix:\n",
      "[[488  19]\n",
      " [ 55  42]]\n"
     ]
    }
   ],
   "source": [
    "print('Confusion Matrix:')\n",
    "print(confusion_matrix(test_labels, predicted_int,labels=(0,1)))"
   ]
  },
  {
   "cell_type": "code",
   "execution_count": 82,
   "metadata": {},
   "outputs": [
    {
     "name": "stdout",
     "output_type": "stream",
     "text": [
      "              precision    recall  f1-score   support\n",
      "\n",
      "           0       0.90      0.96      0.93       507\n",
      "           1       0.69      0.43      0.53        97\n",
      "\n",
      "    accuracy                           0.88       604\n",
      "   macro avg       0.79      0.70      0.73       604\n",
      "weighted avg       0.86      0.88      0.87       604\n",
      "\n"
     ]
    }
   ],
   "source": [
    "print(classification_report(test_labels, predicted_int))"
   ]
  },
  {
   "cell_type": "markdown",
   "metadata": {},
   "source": [
    "#### 2.4 (3 Points)\n",
    "Look at/calculate the Precision and Recall of your model. **Which one is greater? Describe in plain language what that means about the performance of your model (I.e., the circumstances in which it does/doesn’t do well).**"
   ]
  },
  {
   "cell_type": "markdown",
   "metadata": {},
   "source": [
    "The precision on average is higher than the recall. This means that the number of correct predictions was very high, while the number of positives returned for each varied. The recall score was higher for no rain because there was way more data for days that weren't rainy."
   ]
  },
  {
   "cell_type": "markdown",
   "metadata": {},
   "source": [
    "## 3.0 Interlude: A Base Rate Frequency Model (12 Points)\n",
    "\n",
    "If we didn't create a fancy model for predicting future rainfall, would that mean that we had *no way* of predicting if it would rain? Of course not. There's always *some* kind of model we can use (they just won't be very sophisticated). \n",
    "\n",
    "In the case of our problem--predicting whether it will rain tomorrow--what is the simplest model we could use? We'd need to look at the **base rate frequency**. If we know that, over the course of the year, it rains ~30% of the time, that would be our base rate frequency. If we were to guess that it would be sunny every day of the year, we'd be wrong ~30% of the time, *but we'd be right ~70% of the time.* \n",
    "\n",
    "Why is this important? Imagine we create a sophisticated model that accurately predicts rain/no rain ~60% of the time; without any other information, we might think, \"That's not too bad, I guess.\" It certainly feels better than *no* information, right? Now think about the base rate frequency model, which achieves an accuracy of **70%** just by guessing the same thing every time. Suddenly, our sophisticated model seems like crap! It tells us we could be doing ~10% better than our fancy model by guessing. This is why we use the base rate frequency as a simple way to test our models.\n",
    "\n",
    "\n",
    "**Calculate how frequently it rains in your city. If you were to guess that it *wasn't* going to rain every day, how frequently would you be right? (We'll use this as our baseline model.)**\n"
   ]
  },
  {
   "cell_type": "code",
   "execution_count": 83,
   "metadata": {},
   "outputs": [
    {
     "name": "stdout",
     "output_type": "stream",
     "text": [
      "Total Days: 2416\n",
      "Total Rainy Days: 419\n",
      "Rainy Day Percent = 17.34271523178808%\n",
      "There should be 63.3009105960265 rainy days a year\n"
     ]
    }
   ],
   "source": [
    "#Write your code for calculating the frequency of rain here.\n",
    "print(f'Total Days: {len(wagga_data[\"RainToday\"])}')\n",
    "\n",
    "print(f'Total Rainy Days: {len(np.where(wagga_data[\"RainToday\"] == 1)[0])}')\n",
    "\n",
    "print(f'Rainy Day Percent = {len(np.where(wagga_data[\"RainToday\"] == 1)[0]) / len(wagga_data[\"RainToday\"]) * 100}%')\n",
    "\n",
    "print(f'There should be {len(np.where(wagga_data[\"RainToday\"] == 1)[0]) / len(wagga_data[\"RainToday\"]) * 365} rainy days a year')"
   ]
  },
  {
   "cell_type": "markdown",
   "metadata": {},
   "source": [
    "We would only be right 17% of the time, so not great. This is significantly lower than the logistic model I made above."
   ]
  },
  {
   "cell_type": "markdown",
   "metadata": {},
   "source": [
    "---\n",
    "\n",
    "### &#128721; STOP (3 Point)\n",
    "**Pause to commit your changes to your Git repository!**\n",
    "\n",
    "Take a moment to save your notebook, commit the changes to your Git repository with a meaningful commit message.\n",
    "\n",
    "---"
   ]
  },
  {
   "cell_type": "markdown",
   "metadata": {},
   "source": [
    "## 4.0 SVM Model\n",
    "\n",
    "We’ve seen how regression faired in predicting rain; now let’s give Support Vector Machines a shot. \n",
    "\n",
    "It’s not clear, *a priori*, which type of kernel (linear or RBF) would fair better. Therefore, we’ll need to test out both kernel types, as well as multiple values for hyperparameters ($C$ and $\\gamma$). \n",
    "\n",
    "#### 4.1 (12 Points)\n",
    "Run a grid search over both types of kernels and multiple values of $C$ and $\\gamma$ (we recommend [0.01,0.1,1.0,10.0] for both). We *STRONGLY* recommend you set the parameter `n_jobs=-1` in `GridSearchCV`, which will distribute the computational load. Make sure to write down your best-fit hyperparameters. "
   ]
  },
  {
   "cell_type": "code",
   "execution_count": 113,
   "metadata": {},
   "outputs": [],
   "source": [
    "weather_data = pd.read_csv('aussie_weather.csv')\n",
    "\n",
    "mask = weather_data['Location'] == 'WaggaWagga'\n",
    "wagga_data = weather_data[mask]\n",
    "\n",
    "train_data,test_data = train_test_split(wagga_data,random_state=3)\n",
    "\n",
    "train_vectors = train_data.iloc[:,4:24]\n",
    "train_labels = train_data['RainTomorrow']\n",
    "\n",
    "test_vectors = test_data.iloc[:,4:24]\n",
    "test_labels = test_data['RainTomorrow']"
   ]
  },
  {
   "cell_type": "code",
   "execution_count": 114,
   "metadata": {},
   "outputs": [],
   "source": [
    "#Write your code here\n",
    "param_grid = {'C': [0.01,0.1,1.0,10.0],\n",
    "              'gamma': [0.01,0.1,1.0,10.0],\n",
    "              'kernel': ['linear']}#,'rbf']}\n",
    "\n",
    "clf = GridSearchCV(SVC(class_weight='balanced'), param_grid, n_jobs=-1)\n",
    "\n",
    "clf = clf.fit(train_vectors, train_labels)"
   ]
  },
  {
   "cell_type": "markdown",
   "metadata": {},
   "source": [
    "{'C': 0.1, 'gamma': 0.01, 'kernel': 'linear'}"
   ]
  },
  {
   "cell_type": "markdown",
   "metadata": {},
   "source": [
    "#### 4.2 (8 Points)\n",
    "Using your best-fit parameters, classify your test data and print off the confusion matrix. Note/calculate the Precision and Recall for your SVM model, as well as the overall accuracy.\n",
    "\n",
    "$\\mathrm{Accuracy} = \\frac{\\mathrm{Accurate~Predictions}}{\\mathrm{Total~Samples}}$."
   ]
  },
  {
   "cell_type": "code",
   "execution_count": 115,
   "metadata": {},
   "outputs": [],
   "source": [
    "pred_labels = clf.predict(test_vectors)"
   ]
  },
  {
   "cell_type": "code",
   "execution_count": 116,
   "metadata": {},
   "outputs": [
    {
     "name": "stdout",
     "output_type": "stream",
     "text": [
      "              precision    recall  f1-score   support\n",
      "\n",
      "           0       0.97      0.87      0.92       488\n",
      "           1       0.62      0.91      0.73       116\n",
      "\n",
      "    accuracy                           0.87       604\n",
      "   macro avg       0.80      0.89      0.83       604\n",
      "weighted avg       0.91      0.87      0.88       604\n",
      "\n"
     ]
    }
   ],
   "source": [
    "print(classification_report(test_labels, pred_labels))"
   ]
  },
  {
   "cell_type": "code",
   "execution_count": 117,
   "metadata": {},
   "outputs": [
    {
     "name": "stdout",
     "output_type": "stream",
     "text": [
      "Accuracy: 87.41721854304636%\n"
     ]
    }
   ],
   "source": [
    "zipped = zip(test_labels,pred_labels)\n",
    "\n",
    "correct = 0\n",
    "total = 0\n",
    "for i,j in zipped:\n",
    "    total += 1\n",
    "    if i == j:\n",
    "        correct += 1\n",
    "        \n",
    "print(f'Accuracy: {correct/total * 100}%')"
   ]
  },
  {
   "cell_type": "markdown",
   "metadata": {},
   "source": [
    "## 5. Evaluation of Models\n",
    "\n",
    "Here we’re going to investigate how well our predictive models actually work.\n",
    "\n",
    "\n",
    "#### 5.1 (5 Points)\n",
    "\n",
    "Compare the accuracy of both of your predictive models (regression and SVM) to the baseline model from part 3. Do your predictive models do better than the baseline model? Is their performance relative to the baseline model what *you* would expect? \n"
   ]
  },
  {
   "cell_type": "markdown",
   "metadata": {},
   "source": [
    "Both of these models are significantly more accurate than thr baseline model. Significantly so, in fact they perform better than I would have expected."
   ]
  },
  {
   "cell_type": "markdown",
   "metadata": {},
   "source": [
    "#### 5.2 (5 Points)\n",
    "\n",
    "Let’s test the robustness of your model. Before you do anything, you should record the precision, recall, and accuracy of your two predictive models (if you haven’t already). Once you’ve done that, go all the way back to part 1.4 and change the random seed for `train_test_split`. Using this new data split, rerun all of your code from parts 2 and 4. For each new random seed, record the precision, recall, and accuracy for both models (and write them, as well as the random seed, in the cell below!). Do this for 3-5 different random seeds. \n"
   ]
  },
  {
   "cell_type": "markdown",
   "metadata": {},
   "source": [
    "* Random_state = 1\n",
    "Logistic: A = 92, P = (0.94,0.79), R = (0.97,0.65)\n",
    "SVM: A = 87, P = (0.97,0.54), R = (0.87,0.86)\n",
    "\n",
    "* Random_state = 2\n",
    "Logistic: A = 88, P = (0.90,0.69), R = (0.96,0.43)\n",
    "SVM: A = 86, P = (0.97,0.58), R = (0.86,0.90)\n",
    "\n",
    "* Random_state = 3\n",
    "Logistic: A = 92, P = (0.94,0.79), R = (0.96,0.43)\n",
    "SVM: A = 88, P = (0.90,0.69), R = (0.87,0.91)"
   ]
  },
  {
   "cell_type": "markdown",
   "metadata": {},
   "source": [
    "#### 5.3 (5 Points)\n",
    "\n",
    "How much variation did you observe in the precision, recall, and accuracy in your models? After going through this exercise, how (if at all) does this change your response to part 5.1? "
   ]
  },
  {
   "cell_type": "markdown",
   "metadata": {},
   "source": [
    "There was some variation, but not too much. It was a maximum of a few percent for the logistic and about one point for the SVM. They still perform much better than the baseline model, and at this point my expectations have risen."
   ]
  },
  {
   "cell_type": "markdown",
   "metadata": {},
   "source": [
    "#### 5.4 (5 Points)\n",
    "\n",
    "Finally, compare the performance of your regression and SVM models. Which, if any, performed better? Esxplain."
   ]
  },
  {
   "cell_type": "markdown",
   "metadata": {},
   "source": [
    "The logistic regression edged out the SVM by a few percentage points in all situations. If I was going to pick a model to roll with, it would be the logistic regression."
   ]
  },
  {
   "cell_type": "markdown",
   "metadata": {},
   "source": [
    "---\n",
    "\n",
    "### &#128721; STOP (3 Point)\n",
    "**Pause to commit your changes to your Git repository!**\n",
    "\n",
    "Take a moment to save your notebook, commit the changes to your Git repository with a meaningful commit message.\n",
    "\n",
    "---"
   ]
  },
  {
   "cell_type": "markdown",
   "metadata": {},
   "source": [
    "### Congratulations, you're done!"
   ]
  },
  {
   "cell_type": "markdown",
   "metadata": {},
   "source": [
    "&#169; Copyright 2022,  Department of Computational Mathematics, Science and Engineering at Michigan State University"
   ]
  }
 ],
 "metadata": {
  "kernelspec": {
   "display_name": "Python [conda env:Data_Science] *",
   "language": "python",
   "name": "conda-env-Data_Science-py"
  },
  "language_info": {
   "codemirror_mode": {
    "name": "ipython",
    "version": 3
   },
   "file_extension": ".py",
   "mimetype": "text/x-python",
   "name": "python",
   "nbconvert_exporter": "python",
   "pygments_lexer": "ipython3",
   "version": "3.9.16"
  }
 },
 "nbformat": 4,
 "nbformat_minor": 2
}
